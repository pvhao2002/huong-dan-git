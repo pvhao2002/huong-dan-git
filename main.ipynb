{
 "cells": [
  {
   "cell_type": "markdown",
   "metadata": {},
   "source": [
    "### MÔ TẢ DỮ LIỆU\n",
    "Rank: Xếp hạng của anime trong bảng xếp hạng.\n",
    "\n",
    "Name: Tên tiếng Anh của anime.\n",
    "\n",
    "Japanese_name: Tên tiếng Nhật của anime.\n",
    "\n",
    "Type: Loại của anime, ví dụ TV, Web, OVA, Movie, Special, etc.\n",
    "\n",
    "Episodes: Số tập của anime.\n",
    "\n",
    "Studio: Studio sản xuất anime.\n",
    "\n",
    "Release_season: Mùa phát hành của anime, ví dụ Spring, Summer, Fall, Winter.\n",
    "\n",
    "Tags: Các thẻ (tags) mô tả đặc điểm và thể loại của anime.\n",
    "\n",
    "Rating: Xếp hạng của anime.\n",
    "\n",
    "Release_year: Năm phát hành của anime.\n",
    "\n",
    "End_year: Năm kết thúc của anime.\n",
    "\n",
    "Description: Mô tả nội dung của anime.\n",
    "\n",
    "Content_Warning: Cảnh báo nội dung không phù hợp với một số đối tượng.\n",
    "\n",
    "Related_Mange: Các manga liên quan đến anime.\n",
    "'''\n",
    "Thông tin về các manga liên quan có thể cung cấp cho người xem một cái nhìn toàn diện hơn về vũ trụ và cốt truyện của anime, cũng như cung cấp lời khuyên cho những ai muốn khám phá thêm thông tin bằng cách đọc manga.\n",
    "'''\n",
    "\n",
    "Related_anime: Các anime liên quan đến anime hiện tại.\n",
    "\n",
    "Voice_actors: Diễn viên lồng tiếng trong anime.\n",
    "\n",
    "staff: Nhân viên tham gia vào việc sản xuất anime."
   ]
  },
  {
   "cell_type": "markdown",
   "metadata": {},
   "source": [
    "### KHAI BÁO THƯ VIỆN"
   ]
  },
  {
   "cell_type": "code",
   "execution_count": null,
   "metadata": {},
   "outputs": [],
   "source": [
    "import pandas as pd\n",
    "import numpy as np\n",
    "import matplotlib.pyplot as plt\n",
    "import seaborn as sns\n",
    "import testttt"
   ]
  },
  {
   "cell_type": "code",
   "execution_count": null,
   "metadata": {},
   "outputs": [],
   "source": [
    "df = pd.read_csv('Anime.csv')\n",
    "df.head()"
   ]
  }
 ],
 "metadata": {
  "language_info": {
   "name": "python"
  }
 },
 "nbformat": 4,
 "nbformat_minor": 2
}
